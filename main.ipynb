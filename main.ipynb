{
 "cells": [
  {
   "cell_type": "code",
   "execution_count": 1,
   "id": "46b422b7",
   "metadata": {},
   "outputs": [],
   "source": [
    "import numpy as np\n",
    "import pandas as pd\n",
    "import matplotlib.pyplot as plt\n",
    "import sklearn\n",
    "import sklearn.preprocessing\n",
    "import sklearn.model_selection\n",
    "import sklearn.svm\n",
    "import sklearn.metrics\n",
    "import sklearn.neural_network"
   ]
  },
  {
   "cell_type": "code",
   "execution_count": 2,
   "id": "75976127",
   "metadata": {},
   "outputs": [],
   "source": [
    "fmnist_train = pd.read_csv('ftrain56.csv', header=None)\n",
    "fmnist_test = pd.read_csv('ftest56.csv', header=None)"
   ]
  },
  {
   "cell_type": "code",
   "execution_count": 3,
   "id": "8d0e30fc",
   "metadata": {},
   "outputs": [],
   "source": [
    "y_train = fmnist_train.iloc[:, 0].values\n",
    "y_test = fmnist_test.iloc[:, 0].values\n",
    "X_train = fmnist_train.iloc[:, 1:].values\n",
    "X_test = fmnist_test.iloc[:, 1:].values"
   ]
  },
  {
   "cell_type": "code",
   "execution_count": 4,
   "id": "2900ff2d",
   "metadata": {},
   "outputs": [],
   "source": [
    "scalar = sklearn.preprocessing.StandardScaler()\n",
    "X_train = scalar.fit_transform(X_train)\n",
    "X_test = scalar.transform(X_test)\n",
    "y_train = scalar.fit_transform(y_train.reshape(-1, 1)).flatten()\n",
    "y_test = scalar.transform(y_test.reshape(-1, 1)).flatten()"
   ]
  },
  {
   "cell_type": "code",
   "execution_count": 5,
   "id": "213ef018",
   "metadata": {},
   "outputs": [],
   "source": [
    "# SVM\n",
    "possible_C = [0.01, 0.1, 1, 10, 100]\n",
    "svm = sklearn.svm.SVC(kernel='linear')\n",
    "scores = {}\n",
    "cross_val_score = sklearn.model_selection.cross_val_score(svm, X_train, y_train, cv=5, scoring='recall')\n",
    "for c in possible_C:\n",
    "    svm = sklearn.svm.SVC(kernel='linear', C=c)\n",
    "    cross_val_score = sklearn.model_selection.cross_val_score(svm, X_train, y_train, cv=5, scoring='recall')\n",
    "    scores[c] = cross_val_score"
   ]
  },
  {
   "cell_type": "code",
   "execution_count": 6,
   "id": "5122bdfb",
   "metadata": {},
   "outputs": [
    {
     "data": {
      "text/plain": [
       "{0.01: array([0.99916667, 0.99916667, 1.        , 0.99916667, 0.9975    ]),\n",
       " 0.1: array([0.99916667, 0.99916667, 1.        , 0.99916667, 0.9975    ]),\n",
       " 1: array([0.99916667, 0.99916667, 1.        , 0.99916667, 0.9975    ]),\n",
       " 10: array([0.99916667, 0.99916667, 1.        , 0.99916667, 0.9975    ]),\n",
       " 100: array([0.99916667, 0.99916667, 1.        , 0.99916667, 0.9975    ])}"
      ]
     },
     "execution_count": 6,
     "metadata": {},
     "output_type": "execute_result"
    }
   ],
   "source": [
    "scores "
   ]
  }
 ],
 "metadata": {
  "kernelspec": {
   "display_name": "Python 3 (ipykernel)",
   "language": "python",
   "name": "python3"
  },
  "language_info": {
   "codemirror_mode": {
    "name": "ipython",
    "version": 3
   },
   "file_extension": ".py",
   "mimetype": "text/x-python",
   "name": "python",
   "nbconvert_exporter": "python",
   "pygments_lexer": "ipython3",
   "version": "3.8.10"
  }
 },
 "nbformat": 4,
 "nbformat_minor": 5
}
